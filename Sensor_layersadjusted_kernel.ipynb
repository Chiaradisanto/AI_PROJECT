{
  "cells": [
    {
      "cell_type": "markdown",
      "metadata": {
        "id": "view-in-github",
        "colab_type": "text"
      },
      "source": [
        "<a href=\"https://colab.research.google.com/github/Chiaradisanto/AI_PROJECT/blob/main/Sensor_layersadjusted_kernel.ipynb\" target=\"_parent\"><img src=\"https://colab.research.google.com/assets/colab-badge.svg\" alt=\"Open In Colab\"/></a>"
      ]
    },
    {
      "cell_type": "code",
      "execution_count": 1,
      "metadata": {
        "colab": {
          "base_uri": "https://localhost:8080/"
        },
        "id": "Mpks1ti2dmLG",
        "outputId": "f2b4e873-1e1a-49de-81b0-4094b1f96aed"
      },
      "outputs": [
        {
          "output_type": "stream",
          "name": "stdout",
          "text": [
            "Mounted at /gdrive\n"
          ]
        }
      ],
      "source": [
        "from google.colab import drive\n",
        "drive.mount('/gdrive')"
      ]
    },
    {
      "cell_type": "code",
      "execution_count": 2,
      "metadata": {
        "id": "Z77zcQDHdpGx"
      },
      "outputs": [],
      "source": [
        "\n",
        "import os\n",
        "from IPython.core.completer import time\n",
        "from natsort import natsorted\n",
        "from tensorflow.keras.preprocessing.image import (\n",
        "    array_to_img,\n",
        "    img_to_array,\n",
        "    load_img,\n",
        ")\n",
        "from tensorflow.keras import layers\n",
        "import tensorflow as tf\n",
        "import numpy as np"
      ]
    },
    {
      "cell_type": "code",
      "execution_count": 3,
      "metadata": {
        "id": "_GvDvxW3dpDE"
      },
      "outputs": [],
      "source": [
        "class GetLoader:\n",
        "    def __init__(self, *, imgs, masks, timesteps, batch_size, squeeze=False):\n",
        "        self.imgs = imgs\n",
        "        self.masks = masks\n",
        "        self.timesteps = timesteps\n",
        "        self.batch_size = 4\n",
        "        self.squeeze = squeeze\n",
        "        self.augmentation = tf.keras.Sequential(\n",
        "            [\n",
        "                layers.RandomFlip(\"horizontal_and_vertical\"),\n",
        "                layers.RandomRotation(0.2),\n",
        "  \n",
        "\n",
        "            ]\n",
        "        )\n",
        "\n",
        "    def __iter__(self):\n",
        "        return self\n",
        "\n",
        "    def __next__(self):\n",
        "        xs = []\n",
        "        ys = []\n",
        "        for _ in range(self.batch_size):\n",
        "            index = np.random.randint(0, len(self.imgs) - self.timesteps)\n",
        "            xs.append(self.imgs[index : index + self.timesteps])\n",
        "            ys.append(self.masks[index + self.timesteps])\n",
        "        x, y = np.array(xs), np.array(ys)\n",
        "        x = x.squeeze(-1).transpose(0, 2, 3, 1)\n",
        "        xy = self.augmentation(tf.concat((x, y), axis=-1))\n",
        "\n",
        "        x = xy[:, :, :, :3]\n",
        "        y = xy[:, :, :, 3:]\n",
        "        if not self.squeeze:\n",
        "            x = tf.transpose(x, perm=(0, 3, 1, 2))[..., None]\n",
        "            y = tf.expand_dims(y, 1)\n",
        "        # if not tf.reduce_all(y[0] == 0):\n",
        "        #    ipdb.set_trace()\n",
        "        return x, y\n",
        "\n",
        "\n",
        "class DataLoader:\n",
        "    def __init__(\n",
        "        self,\n",
        "        data_folder: str,\n",
        "        *,\n",
        "        timesteps: int = 3,\n",
        "        batch_size=4,\n",
        "        squeeze=False,\n",
        "    ):\n",
        "        self.batch_size = batch_size\n",
        "        self.data_folder = data_folder\n",
        "        self.timesteps = timesteps\n",
        "        self.squeeze = squeeze\n",
        "        train_img_file_names = [\n",
        "            os.path.join(data_folder, \"train_images\", \"images\", fn)\n",
        "            for fn in os.listdir(os.path.join(data_folder, \"train_images\", \"images\"))\n",
        "        ]\n",
        "        train_img_file_names = natsorted(train_img_file_names)\n",
        "        # train_img_file_names.sort(key=lambda x: int(x.split(\"_\")[-1].split(\".\")[0]))\n",
        "        train_mask_file_names = [\n",
        "            fn.replace(\"images\", \"masks\") for fn in train_img_file_names\n",
        "        ]\n",
        "        self.train_imgs = (\n",
        "            np.array(\n",
        "                [\n",
        "                    img_to_array(load_img(fn, color_mode=\"grayscale\"))\n",
        "                    for fn in train_img_file_names\n",
        "                ]\n",
        "            )\n",
        "            / 255\n",
        "        )\n",
        "        self.train_masks = (\n",
        "            np.array(\n",
        "                [\n",
        "                    img_to_array(load_img(fn, color_mode=\"grayscale\"))\n",
        "                    for fn in train_mask_file_names\n",
        "                ]\n",
        "            )\n",
        "            / 255\n",
        "            > 0.5\n",
        "        ).astype(float)\n",
        "\n",
        "        val_img_file_names = [\n",
        "            os.path.join(data_folder, \"val_images\", \"images\", fn)\n",
        "            for fn in os.listdir(os.path.join(data_folder, \"val_images\", \"images\"))\n",
        "        ]\n",
        "        val_img_file_names = natsorted(val_img_file_names)\n",
        "        val_mask_file_names = [\n",
        "            fn.replace(\"images\", \"masks\") for fn in val_img_file_names\n",
        "        ]\n",
        "        self.val_imgs = (\n",
        "            np.array(\n",
        "                [\n",
        "                    img_to_array(load_img(fn, color_mode=\"grayscale\"))\n",
        "                    for fn in val_img_file_names\n",
        "                ]\n",
        "            )\n",
        "            / 255\n",
        "        )\n",
        "        self.val_masks = (\n",
        "            np.array(\n",
        "                [\n",
        "                    img_to_array(load_img(fn, color_mode=\"grayscale\"))\n",
        "                    for fn in val_mask_file_names\n",
        "                ]\n",
        "            )\n",
        "            / 255\n",
        "            > 0.5\n",
        "        ).astype(float)\n",
        "\n",
        "    def get_loaders(self):\n",
        "        return (\n",
        "            GetLoader(\n",
        "                imgs=self.train_imgs,\n",
        "                masks=self.train_masks,\n",
        "                timesteps=self.timesteps,\n",
        "                batch_size=self.batch_size,\n",
        "                squeeze=self.squeeze,\n",
        "            ),\n",
        "            GetLoader(\n",
        "                imgs=self.val_imgs,\n",
        "                masks=self.val_masks,\n",
        "                timesteps=self.timesteps,\n",
        "                batch_size=self.batch_size,\n",
        "                squeeze=self.squeeze,\n",
        "            ),\n",
        "        )"
      ]
    },
    {
      "cell_type": "code",
      "execution_count": 4,
      "metadata": {
        "id": "uyydvpDhdpAl"
      },
      "outputs": [],
      "source": [
        "\n",
        "train_loader, val_loader = DataLoader(\"/gdrive/MyDrive/adjustedROI/final_output\", squeeze=False).get_loaders()\n"
      ]
    },
    {
      "cell_type": "code",
      "execution_count": 5,
      "metadata": {
        "id": "FkiYiHHpdo-A"
      },
      "outputs": [],
      "source": [
        "x, y = val_loader.__next__()"
      ]
    },
    {
      "cell_type": "code",
      "execution_count": 6,
      "metadata": {
        "id": "KLT-mSOPdo7n"
      },
      "outputs": [],
      "source": [
        "from matplotlib import pyplot as plt"
      ]
    },
    {
      "cell_type": "code",
      "execution_count": 7,
      "metadata": {
        "colab": {
          "base_uri": "https://localhost:8080/",
          "height": 515
        },
        "id": "VBSK7qDEdo5C",
        "outputId": "cb476e72-610a-4933-e1a4-60654b554aef"
      },
      "outputs": [
        {
          "output_type": "display_data",
          "data": {
            "text/plain": [
              "<Figure size 432x288 with 2 Axes>"
            ],
            "image/png": "[encoded data removed]"
          },
          "metadata": {
            "needs_background": "light"
          }
        },
        {
          "output_type": "display_data",
          "data": {
            "text/plain": [
              "<Figure size 432x288 with 2 Axes>"
            ],
            "image/png": "[encoded data removed]"
          },
          "metadata": {
            "needs_background": "light"
          }
        },
        {
          "output_type": "display_data",
          "data": {
            "text/plain": [
              "<Figure size 432x288 with 2 Axes>"
            ],
            "image/png": "[encoded data removed]"
          },
          "metadata": {
            "needs_background": "light"
          }
        }
      ],
      "source": [
        "\n",
        "x, y = val_loader.__next__()\n",
        "\n",
        "for i in range(0,3):\n",
        "    image = x[i,0,:,:,0]\n",
        "    #mask = np.argmax(y[i], axis=2)\n",
        "    mask= y[i,0,:,:,0]\n",
        "    plt.subplot(1,2,1)\n",
        "    plt.imshow(image, cmap='gray')\n",
        "    plt.axis('off')\n",
        "    plt.subplot(1,2,2)\n",
        "    plt.imshow(mask, cmap='gray')\n",
        "    plt.axis('off')\n",
        "    plt.show()"
      ]
    },
    {
      "cell_type": "code",
      "execution_count": 8,
      "metadata": {
        "colab": {
          "base_uri": "https://localhost:8080/"
        },
        "id": "hIYnW33H5cGG",
        "outputId": "85b7e7a8-4c9e-4441-be6b-b5f8fa80606c"
      },
      "outputs": [
        {
          "output_type": "execute_result",
          "data": {
            "text/plain": [
              "TensorShape([4, 3, 256, 256, 1])"
            ]
          },
          "metadata": {},
          "execution_count": 8
        }
      ],
      "source": [
        "x.shape"
      ]
    },
    {
      "cell_type": "code",
      "execution_count": 9,
      "metadata": {
        "id": "d6f7bKOndo2s"
      },
      "outputs": [],
      "source": [
        "batch_size=4"
      ]
    },
    {
      "cell_type": "code",
      "execution_count": 10,
      "metadata": {
        "colab": {
          "base_uri": "https://localhost:8080/"
        },
        "id": "fwhv29agugOa",
        "outputId": "d47ff0db-05be-4e54-dd1f-d5b81455384c"
      },
      "outputs": [
        {
          "output_type": "execute_result",
          "data": {
            "text/plain": [
              "TensorShape([4, 1, 256, 256, 1])"
            ]
          },
          "metadata": {},
          "execution_count": 10
        }
      ],
      "source": [
        "y.shape"
      ]
    },
    {
      "cell_type": "code",
      "execution_count": 11,
      "metadata": {
        "id": "xBuFvzUXvmDW"
      },
      "outputs": [],
      "source": [
        "x, y = val_loader.__next__()\n",
        "\n"
      ]
    },
    {
      "cell_type": "code",
      "execution_count": 12,
      "metadata": {
        "id": "7DXV9c0odo0W"
      },
      "outputs": [],
      "source": [
        "#Define the model metrcis and load model. \n",
        "\n",
        "num_train_imgs = len(os.listdir('/gdrive/MyDrive/adjustedROI/final_output/train_images/images'))\n",
        "num_val_images = len(os.listdir('/gdrive/MyDrive/adjustedROI/final_output/val_images/images'))\n",
        "steps_per_epoch = num_train_imgs//batch_size\n",
        "val_steps_per_epoch = num_val_images//batch_size\n"
      ]
    },
    {
      "cell_type": "code",
      "execution_count": 13,
      "metadata": {
        "colab": {
          "base_uri": "https://localhost:8080/"
        },
        "id": "teBh4intvW7r",
        "outputId": "83a6fb9d-7eab-4858-8de2-3e6906a155f6"
      },
      "outputs": [
        {
          "output_type": "execute_result",
          "data": {
            "text/plain": [
              "477"
            ]
          },
          "metadata": {},
          "execution_count": 13
        }
      ],
      "source": [
        "num_val_images"
      ]
    },
    {
      "cell_type": "code",
      "execution_count": 14,
      "metadata": {
        "id": "cmYMQrpCdox9"
      },
      "outputs": [],
      "source": [
        "import tensorflow as tf\n",
        "from tensorflow.keras.layers import Conv2D, TimeDistributed,Dropout,Input, Dense,\\\n",
        "    BatchNormalization, GRU, Layer, Flatten,MaxPooling2D, concatenate,Lambda\n",
        "from tensorflow.keras.regularizers import l2\n",
        "from tensorflow.keras.models import Model\n",
        "from tensorflow.keras.utils import plot_model\n",
        "from tensorflow.keras.optimizers import Adam\n",
        "from keras import layers\n",
        "from keras import models\n",
        "from tensorflow.python.keras.layers import ConvLSTM2D"
      ]
    },
    {
      "cell_type": "code",
      "execution_count": 15,
      "metadata": {
        "id": "i3KYDslbdovU"
      },
      "outputs": [],
      "source": [
        "input_shape=(3,256,256,1)"
      ]
    },
    {
      "cell_type": "code",
      "execution_count": 15,
      "metadata": {
        "id": "C3KphFEleWRt"
      },
      "outputs": [],
      "source": []
    },
    {
      "cell_type": "code",
      "execution_count": 16,
      "metadata": {
        "colab": {
          "base_uri": "https://localhost:8080/"
        },
        "id": "OEJwv69mdosz",
        "outputId": "58ca5206-f32b-45ad-dc91-42f9aa0586c0"
      },
      "outputs": [
        {
          "output_type": "stream",
          "name": "stdout",
          "text": [
            "Model: \"model\"\n",
            "__________________________________________________________________________________________________\n",
            " Layer (type)                   Output Shape         Param #     Connected to                     \n",
            "==================================================================================================\n",
            " input_2 (InputLayer)           [(None, 3, 256, 256  0           []                               \n",
            "                                , 1)]                                                             \n",
            "                                                                                                  \n",
            " time_distributed_4 (TimeDistri  (None, 3, 256, 256,  640        ['input_2[0][0]']                \n",
            " buted)                          64)                                                              \n",
            "                                                                                                  \n",
            " time_distributed_5 (TimeDistri  (None, 3, 256, 256,  256        ['time_distributed_4[0][0]']     \n",
            " buted)                          64)                                                              \n",
            "                                                                                                  \n",
            " time_distributed_6 (TimeDistri  (None, 3, 256, 256,  36928      ['time_distributed_5[0][0]']     \n",
            " buted)                          64)                                                              \n",
            "                                                                                                  \n",
            " time_distributed_7 (TimeDistri  (None, 3, 256, 256,  256        ['time_distributed_6[0][0]']     \n",
            " buted)                          64)                                                              \n",
            "                                                                                                  \n",
            " time_distributed_8 (TimeDistri  (None, 3, 128, 128,  0          ['time_distributed_7[0][0]']     \n",
            " buted)                          64)                                                              \n",
            "                                                                                                  \n",
            " time_distributed_9 (TimeDistri  (None, 3, 128, 128,  73856      ['time_distributed_8[0][0]']     \n",
            " buted)                          128)                                                             \n",
            "                                                                                                  \n",
            " time_distributed_10 (TimeDistr  (None, 3, 128, 128,  512        ['time_distributed_9[0][0]']     \n",
            " ibuted)                         128)                                                             \n",
            "                                                                                                  \n",
            " time_distributed_11 (TimeDistr  (None, 3, 128, 128,  147584     ['time_distributed_10[0][0]']    \n",
            " ibuted)                         128)                                                             \n",
            "                                                                                                  \n",
            " time_distributed_12 (TimeDistr  (None, 3, 128, 128,  512        ['time_distributed_11[0][0]']    \n",
            " ibuted)                         128)                                                             \n",
            "                                                                                                  \n",
            " time_distributed_13 (TimeDistr  (None, 3, 64, 64, 1  0          ['time_distributed_12[0][0]']    \n",
            " ibuted)                        28)                                                               \n",
            "                                                                                                  \n",
            " time_distributed_14 (TimeDistr  (None, 3, 64, 64, 2  295168     ['time_distributed_13[0][0]']    \n",
            " ibuted)                        56)                                                               \n",
            "                                                                                                  \n",
            " time_distributed_15 (TimeDistr  (None, 3, 64, 64, 2  1024       ['time_distributed_14[0][0]']    \n",
            " ibuted)                        56)                                                               \n",
            "                                                                                                  \n",
            " time_distributed_16 (TimeDistr  (None, 3, 64, 64, 2  590080     ['time_distributed_15[0][0]']    \n",
            " ibuted)                        56)                                                               \n",
            "                                                                                                  \n",
            " time_distributed_17 (TimeDistr  (None, 3, 64, 64, 2  1024       ['time_distributed_16[0][0]']    \n",
            " ibuted)                        56)                                                               \n",
            "                                                                                                  \n",
            " time_distributed_18 (TimeDistr  (None, 3, 32, 32, 2  0          ['time_distributed_17[0][0]']    \n",
            " ibuted)                        56)                                                               \n",
            "                                                                                                  \n",
            " bidirectional (Bidirectional)  (None, 3, 32, 32, 5  9439232     ['time_distributed_18[0][0]']    \n",
            "                                12)                                                               \n",
            "                                                                                                  \n",
            " time_distributed_19 (TimeDistr  (None, 3, 64, 64, 5  2359808    ['bidirectional[0][0]']          \n",
            " ibuted)                        12)                                                               \n",
            "                                                                                                  \n",
            " concatenate (Concatenate)      (None, 3, 64, 64, 7  0           ['time_distributed_19[0][0]',    \n",
            "                                68)                               'time_distributed_17[0][0]']    \n",
            "                                                                                                  \n",
            " time_distributed_20 (TimeDistr  (None, 3, 64, 64, 2  1769728    ['concatenate[0][0]']            \n",
            " ibuted)                        56)                                                               \n",
            "                                                                                                  \n",
            " time_distributed_21 (TimeDistr  (None, 3, 64, 64, 2  590080     ['time_distributed_20[0][0]']    \n",
            " ibuted)                        56)                                                               \n",
            "                                                                                                  \n",
            " time_distributed_22 (TimeDistr  (None, 3, 128, 128,  590080     ['time_distributed_21[0][0]']    \n",
            " ibuted)                         256)                                                             \n",
            "                                                                                                  \n",
            " concatenate_1 (Concatenate)    (None, 3, 128, 128,  0           ['time_distributed_22[0][0]',    \n",
            "                                 384)                             'time_distributed_12[0][0]']    \n",
            "                                                                                                  \n",
            " time_distributed_23 (TimeDistr  (None, 3, 128, 128,  442496     ['concatenate_1[0][0]']          \n",
            " ibuted)                         128)                                                             \n",
            "                                                                                                  \n",
            " time_distributed_24 (TimeDistr  (None, 3, 128, 128,  147584     ['time_distributed_23[0][0]']    \n",
            " ibuted)                         128)                                                             \n",
            "                                                                                                  \n",
            " time_distributed_25 (TimeDistr  (None, 3, 256, 256,  147584     ['time_distributed_24[0][0]']    \n",
            " ibuted)                         128)                                                             \n",
            "                                                                                                  \n",
            " concatenate_2 (Concatenate)    (None, 3, 256, 256,  0           ['time_distributed_25[0][0]',    \n",
            "                                 192)                             'time_distributed_7[0][0]']     \n",
            "                                                                                                  \n",
            " time_distributed_26 (TimeDistr  (None, 3, 256, 256,  110656     ['concatenate_2[0][0]']          \n",
            " ibuted)                         64)                                                              \n",
            "                                                                                                  \n",
            " bidirectional_1 (Bidirectional  (None, 256, 256, 64  221440     ['time_distributed_26[0][0]']    \n",
            " )                              )                                                                 \n",
            "                                                                                                  \n",
            " tf.expand_dims (TFOpLambda)    (None, 1, 256, 256,  0           ['bidirectional_1[0][0]']        \n",
            "                                 64)                                                              \n",
            "                                                                                                  \n",
            " conv2d_13 (Conv2D)             (None, 1, 256, 256,  65          ['tf.expand_dims[0][0]']         \n",
            "                                 1)                                                               \n",
            "                                                                                                  \n",
            "==================================================================================================\n",
            "Total params: 16,966,593\n",
            "Trainable params: 16,964,801\n",
            "Non-trainable params: 1,792\n",
            "__________________________________________________________________________________________________\n"
          ]
        }
      ],
      "source": [
        "\n",
        "input_l = layers.Input(shape=(input_shape))\n",
        "x =  (layers.TimeDistributed(layers.Conv2D( 64, kernel_size=(3, 3),padding='same',strides=(1,1), kernel_initializer='he_normal' ))) (input_l)\n",
        "x=layers.TimeDistributed(layers.BatchNormalization())(x)\n",
        "\n",
        "conv2 = layers.TimeDistributed( layers.Conv2D( 64, kernel_size=(3, 3),padding='same',strides=(1,1),kernel_initializer='he_normal' ) ) (x)\n",
        "conv2=layers.TimeDistributed(layers.BatchNormalization())(conv2)\n",
        "\n",
        "input_l = layers.Input(shape=(input_shape))\n",
        "x =  layers.TimeDistributed(layers.Conv2D( 64, kernel_size=(3, 3),padding='same',strides=(1,1), kernel_initializer='he_normal')) (input_l)\n",
        "x=layers.TimeDistributed(layers.BatchNormalization())(x)\n",
        "\n",
        "conv2 = layers.TimeDistributed( layers.Conv2D( 64, kernel_size=(3, 3),padding='same',strides=(1,1),kernel_initializer='he_normal' ) ) (x)\n",
        "conv2=layers.TimeDistributed(layers.BatchNormalization())(conv2)\n",
        "\n",
        "x=layers.TimeDistributed(layers.MaxPooling2D(pool_size=(2,2)))(conv2)\n",
        "x = layers.TimeDistributed( layers.Conv2D( 128, kernel_size=(3, 3),padding='same',strides=(1,1),kernel_initializer='he_normal' ) ) (x)\n",
        "x=layers.TimeDistributed(layers.BatchNormalization())(x)\n",
        "\n",
        "\n",
        "conv5 = layers.TimeDistributed( layers.Conv2D( 128, kernel_size=(3, 3),padding='same',strides=(1,1),kernel_initializer='he_normal' ) ) (x)\n",
        "conv5=layers.TimeDistributed(layers.BatchNormalization())(conv5)\n",
        "\n",
        "\n",
        "x=layers.TimeDistributed(layers.MaxPooling2D(pool_size=(2,2)))(conv5)\n",
        "x = layers.TimeDistributed( layers.Conv2D( 256, kernel_size=(3, 3),padding='same',strides=(1,1),kernel_initializer='he_normal' ) ) (x)\n",
        "x=layers.TimeDistributed(layers.BatchNormalization())(x)\n",
        "\n",
        "\n",
        "conv8 = layers.TimeDistributed( layers.Conv2D( 256, kernel_size=(3, 3),padding='same',strides=(1,1),kernel_initializer='he_normal' ) ) (x)\n",
        "conv8=layers.TimeDistributed(layers.BatchNormalization())(conv8)\n",
        "\n",
        "\n",
        "x=layers.TimeDistributed(layers.MaxPooling2D(pool_size=(2,2)))(conv8)\n",
        "x=layers.Bidirectional(layers.ConvLSTM2D(256,kernel_size=(3,3),padding='same',strides=(1,1),return_sequences=True,recurrent_dropout=0.2))(x)\n",
        "up1 = layers.TimeDistributed( layers.Conv2DTranspose( 512,kernel_size=(3,3),padding='same',strides=(2,2)))(x)\n",
        "concat1 = layers.concatenate([up1, conv8])\n",
        "x = layers.TimeDistributed( layers.Conv2D( 256, kernel_size=(3, 3),padding='same',strides=(1,1) ,kernel_initializer='he_normal') ) (concat1)\n",
        "\n",
        "x = layers.TimeDistributed( layers.Conv2D( 256, kernel_size=(3, 3),padding='same',strides=(1,1) ) ) (x)\n",
        "\n",
        "up2 = layers.TimeDistributed( layers.Conv2DTranspose( 256,kernel_size=(3,3),padding='same',strides=(2,2)))(x)\n",
        "concat2 = layers.concatenate([up2, conv5])\n",
        "\n",
        "x = layers.TimeDistributed( layers.Conv2D( 128, kernel_size=(3, 3),padding='same',strides=(1,1),kernel_initializer='he_normal' ) ) (concat2)\n",
        "\n",
        "x = layers.TimeDistributed( layers.Conv2D( 128, kernel_size=(3, 3),padding='same',strides=(1,1),kernel_initializer='he_normal' ) ) (x)\n",
        "\n",
        "up3 = layers.TimeDistributed( layers.Conv2DTranspose( 128,kernel_size=(3,3),padding='same',strides=(2,2)))(x)\n",
        "\n",
        "concat3 = layers.concatenate([up3, conv2])\n",
        "x = layers.TimeDistributed( layers.Conv2D( 64, kernel_size=(3, 3),padding='same',strides=(1,1), kernel_initializer='he_normal') ) (concat3)\n",
        "x=layers.Bidirectional(layers.ConvLSTM2D(32,kernel_size=(3,3),padding='same',strides=(1,1),return_sequences=False,recurrent_dropout=0.1))(x)\n",
        "x=tf.expand_dims(x,axis=1)\n",
        "\n",
        "\n",
        "\n",
        "#out = tf.reshape(out, (-1, 1, 256,256, 64))\n",
        "out = layers.Conv2D( 1, kernel_size=(1, 1),padding='same',strides=(1,1), activation='sigmoid' )  (x)\n",
        "\n",
        "\n",
        "model = models.Model(inputs=input_l, outputs=out)\n",
        "model.summary()"
      ]
    },
    {
      "cell_type": "code",
      "execution_count": 17,
      "metadata": {
        "id": "eG509OlGfhuN"
      },
      "outputs": [],
      "source": [
        "from keras import backend as K\n",
        "\n",
        "\n",
        "def dice_coefficient(y_true, y_pred, smooth=0.0001):\n",
        "    y_true_f = K.flatten(y_true)\n",
        "    y_pred_f = K.flatten(y_pred)\n",
        "\n",
        "    intersection = K.sum(y_true_f * y_pred_f)\n",
        "\n",
        "    return ((2. * intersection + smooth) / (K.sum(y_true_f) +\n",
        "            K.sum(y_pred_f) + smooth))\n",
        "\n",
        "\n",
        "def dice_coefficient_loss(y_true, y_pred):\n",
        "    return 1.0-dice_coefficient(y_true, y_pred)\n",
        "\n",
        "\n",
        "def iou_loss(y_true, y_pred):\n",
        "    return 1-iou(y_true, y_pred)\n",
        "\n",
        "def iou(y_true, y_pred):\n",
        "    intersection = K.sum(K.abs(y_true * y_pred))\n",
        "    sum_ = K.sum(K.square(y_true)) + K.sum(K.square(y_pred))\n",
        "    jac = (intersection) / (sum_ - intersection)\n",
        "    return jac"
      ]
    },
    {
      "cell_type": "code",
      "execution_count": 18,
      "metadata": {
        "id": "QYpTkW_6fhqt"
      },
      "outputs": [],
      "source": [
        "LR = 5e-5\n",
        "optim = tf.keras.optimizers.Adam(LR)"
      ]
    },
    {
      "cell_type": "code",
      "execution_count": 19,
      "metadata": {
        "id": "y3EnFinifhoY"
      },
      "outputs": [],
      "source": [
        "metrics=[ dice_coefficient, 'binary_accuracy']\n"
      ]
    },
    {
      "cell_type": "code",
      "execution_count": 20,
      "metadata": {
        "id": "9_gD-lo8fhmQ"
      },
      "outputs": [],
      "source": [
        "model.compile(optimizer=optim, loss=dice_coefficient_loss, metrics=metrics)\n"
      ]
    },
    {
      "cell_type": "code",
      "execution_count": 20,
      "metadata": {
        "id": "0bUV4g19doqZ"
      },
      "outputs": [],
      "source": []
    },
    {
      "cell_type": "code",
      "execution_count": 21,
      "metadata": {
        "id": "2sPc1s5bgALL"
      },
      "outputs": [],
      "source": [
        "model_checkpoint_callback = tf.keras.callbacks.ModelCheckpoint(\n",
        "    filepath='/gdrive/MyDrive/chk/',\n",
        "    save_weights_only=True,\n",
        "    monitor='val_dice_coefficient',\n",
        "    mode='max',\n",
        "    save_best_only=True)\n"
      ]
    },
    {
      "cell_type": "code",
      "execution_count": 22,
      "metadata": {
        "colab": {
          "base_uri": "https://localhost:8080/"
        },
        "id": "zGechLxIgAHr",
        "outputId": "300324e4-1133-4203-ce6b-de0ec97a6b21"
      },
      "outputs": [
        {
          "output_type": "stream",
          "name": "stdout",
          "text": [
            "Epoch 1/15\n",
            "745/745 [==============================] - 1172s 2s/step - loss: 0.6017 - dice_coefficient: 0.3983 - binary_accuracy: 0.9562 - val_loss: 0.4760 - val_dice_coefficient: 0.5240 - val_binary_accuracy: 0.9732\n",
            "Epoch 2/15\n",
            "745/745 [==============================] - 1143s 2s/step - loss: 0.4935 - dice_coefficient: 0.5065 - binary_accuracy: 0.9749 - val_loss: 0.4225 - val_dice_coefficient: 0.5775 - val_binary_accuracy: 0.9747\n",
            "Epoch 3/15\n",
            "745/745 [==============================] - 1143s 2s/step - loss: 0.4782 - dice_coefficient: 0.5218 - binary_accuracy: 0.9778 - val_loss: 0.4225 - val_dice_coefficient: 0.5775 - val_binary_accuracy: 0.9767\n",
            "Epoch 4/15\n",
            "745/745 [==============================] - 1142s 2s/step - loss: 0.4313 - dice_coefficient: 0.5687 - binary_accuracy: 0.9796 - val_loss: 0.4409 - val_dice_coefficient: 0.5591 - val_binary_accuracy: 0.9773\n",
            "Epoch 5/15\n",
            "745/745 [==============================] - 1142s 2s/step - loss: 0.4250 - dice_coefficient: 0.5750 - binary_accuracy: 0.9802 - val_loss: 0.3744 - val_dice_coefficient: 0.6256 - val_binary_accuracy: 0.9776\n",
            "Epoch 6/15\n",
            "745/745 [==============================] - 1142s 2s/step - loss: 0.4214 - dice_coefficient: 0.5786 - binary_accuracy: 0.9811 - val_loss: 0.3949 - val_dice_coefficient: 0.6051 - val_binary_accuracy: 0.9794\n",
            "Epoch 7/15\n",
            "745/745 [==============================] - 1141s 2s/step - loss: 0.4252 - dice_coefficient: 0.5748 - binary_accuracy: 0.9811 - val_loss: 0.3925 - val_dice_coefficient: 0.6075 - val_binary_accuracy: 0.9767\n",
            "Epoch 8/15\n",
            "745/745 [==============================] - 1141s 2s/step - loss: 0.4011 - dice_coefficient: 0.5989 - binary_accuracy: 0.9818 - val_loss: 0.4320 - val_dice_coefficient: 0.5680 - val_binary_accuracy: 0.9750\n",
            "Epoch 9/15\n",
            "745/745 [==============================] - 1142s 2s/step - loss: 0.4002 - dice_coefficient: 0.5998 - binary_accuracy: 0.9822 - val_loss: 0.3977 - val_dice_coefficient: 0.6023 - val_binary_accuracy: 0.9788\n",
            "Epoch 10/15\n",
            "745/745 [==============================] - 1142s 2s/step - loss: 0.3970 - dice_coefficient: 0.6030 - binary_accuracy: 0.9818 - val_loss: 0.3725 - val_dice_coefficient: 0.6275 - val_binary_accuracy: 0.9764\n",
            "Epoch 11/15\n",
            "745/745 [==============================] - 1141s 2s/step - loss: 0.3916 - dice_coefficient: 0.6084 - binary_accuracy: 0.9822 - val_loss: 0.3743 - val_dice_coefficient: 0.6257 - val_binary_accuracy: 0.9781\n",
            "Epoch 12/15\n",
            "745/745 [==============================] - 1142s 2s/step - loss: 0.4088 - dice_coefficient: 0.5912 - binary_accuracy: 0.9819 - val_loss: 0.4156 - val_dice_coefficient: 0.5844 - val_binary_accuracy: 0.9732\n",
            "Epoch 13/15\n",
            "745/745 [==============================] - 1142s 2s/step - loss: 0.3966 - dice_coefficient: 0.6034 - binary_accuracy: 0.9833 - val_loss: 0.3844 - val_dice_coefficient: 0.6156 - val_binary_accuracy: 0.9806\n",
            "Epoch 14/15\n",
            "745/745 [==============================] - 1142s 2s/step - loss: 0.3962 - dice_coefficient: 0.6038 - binary_accuracy: 0.9829 - val_loss: 0.3792 - val_dice_coefficient: 0.6208 - val_binary_accuracy: 0.9795\n",
            "Epoch 15/15\n",
            "745/745 [==============================] - 1142s 2s/step - loss: 0.3616 - dice_coefficient: 0.6384 - binary_accuracy: 0.9830 - val_loss: 0.3751 - val_dice_coefficient: 0.6249 - val_binary_accuracy: 0.9796\n"
          ]
        }
      ],
      "source": [
        "\n",
        "history=model.fit(train_loader,\n",
        "          steps_per_epoch=steps_per_epoch,\n",
        "          epochs=15,\n",
        "          verbose=1,\n",
        "          validation_data=val_loader,\n",
        "\n",
        "    \n",
        "          validation_steps=val_steps_per_epoch)"
      ]
    },
    {
      "cell_type": "code",
      "execution_count": 23,
      "metadata": {
        "id": "pZBawl9_7MKn"
      },
      "outputs": [],
      "source": [
        "model.save('/gdrive/MyDrive/Sensor15-5e-5-roiadjusted-kernelinitializer-recurrentdropout0201.h5')\n"
      ]
    },
    {
      "cell_type": "code",
      "execution_count": 24,
      "metadata": {
        "id": "hy6KmhrigAE0"
      },
      "outputs": [],
      "source": [
        "#Load previously saved model\n",
        "from keras.models import load_model\n",
        "model = load_model(\"/gdrive/MyDrive/Sensor15-5e-5-roiadjusted-kernelinitializer-recurrentdropout0201.h5\", compile=False)"
      ]
    },
    {
      "cell_type": "code",
      "execution_count": 25,
      "metadata": {
        "id": "L2CEhiYWgACd"
      },
      "outputs": [],
      "source": [
        "\n",
        "class GetLoader:\n",
        "    def __init__(self, *, imgs, masks, timesteps, batch_size, squeeze=False):\n",
        "        self.imgs = imgs\n",
        "        self.masks = masks\n",
        "        self.timesteps = timesteps\n",
        "        self.batch_size = batch_size\n",
        "        self.squeeze = squeeze\n",
        "        self.augmentation = tf.keras.Sequential(\n",
        "            [\n",
        "                layers.RandomFlip(\"horizontal_and_vertical\"),\n",
        "                layers.RandomRotation(0.2),\n",
        "            ]\n",
        "        )\n",
        "\n",
        "    def __iter__(self):\n",
        "        return self\n",
        "\n",
        "    def __next__(self):\n",
        "        xs = []\n",
        "        ys = []\n",
        "        for _ in range(self.batch_size):\n",
        "            index = np.random.randint(0, len(self.imgs) - self.timesteps)\n",
        "            xs.append(self.imgs[index : index + self.timesteps])\n",
        "            ys.append(self.masks[index + self.timesteps])\n",
        "        x, y = np.array(xs), np.array(ys)\n",
        "        x = x.squeeze(-1).transpose(0, 2, 3, 1)\n",
        "        xy = self.augmentation(tf.concat((x, y), axis=-1))\n",
        "\n",
        "        x = xy[:, :, :, :3]\n",
        "        y = xy[:, :, :, 3:]\n",
        "        if not self.squeeze:\n",
        "            x = tf.transpose(x, perm=(0, 3, 1, 2))[..., None]\n",
        "            y = tf.expand_dims(y, 1)\n",
        "        # if not tf.reduce_all(y[0] == 0):\n",
        "        #    ipdb.set_trace()\n",
        "        return x, y\n",
        "\n",
        "\n",
        "class DataLoader:\n",
        "    def __init__(\n",
        "        self,\n",
        "        data_folder: str,\n",
        "        *,\n",
        "        timesteps: int = 3,\n",
        "        batch_size=400,\n",
        "        squeeze=False,\n",
        "    ):\n",
        "        self.batch_size = batch_size\n",
        "        self.data_folder = data_folder\n",
        "        self.timesteps = timesteps\n",
        "        self.squeeze = squeeze\n",
        "        train_img_file_names = [\n",
        "            os.path.join(data_folder, \"train_images\", \"images\", fn)\n",
        "            for fn in os.listdir(os.path.join(data_folder, \"train_images\", \"images\"))\n",
        "        ]\n",
        "        train_img_file_names = natsorted(train_img_file_names)\n",
        "        # train_img_file_names.sort(key=lambda x: int(x.split(\"_\")[-1].split(\".\")[0]))\n",
        "        train_mask_file_names = [\n",
        "            fn.replace(\"images\", \"masks\") for fn in train_img_file_names\n",
        "        ]\n",
        "        self.train_imgs = (\n",
        "            np.array(\n",
        "                [\n",
        "                    img_to_array(load_img(fn, color_mode=\"grayscale\"))\n",
        "                    for fn in train_img_file_names\n",
        "                ]\n",
        "            )\n",
        "            / 255\n",
        "        )\n",
        "        self.train_masks = (\n",
        "            np.array(\n",
        "                [\n",
        "                    img_to_array(load_img(fn, color_mode=\"grayscale\"))\n",
        "                    for fn in train_mask_file_names\n",
        "                ]\n",
        "            )\n",
        "            / 255\n",
        "            > 0.5\n",
        "        ).astype(float)\n",
        "\n",
        "        val_img_file_names = [\n",
        "            os.path.join(data_folder, \"val_images\", \"images\", fn)\n",
        "            for fn in os.listdir(os.path.join(data_folder, \"val_images\", \"images\"))\n",
        "        ]\n",
        "        val_img_file_names = natsorted(val_img_file_names)\n",
        "        val_mask_file_names = [\n",
        "            fn.replace(\"images\", \"masks\") for fn in val_img_file_names\n",
        "        ]\n",
        "        self.val_imgs = (\n",
        "            np.array(\n",
        "                [\n",
        "                    img_to_array(load_img(fn, color_mode=\"grayscale\"))\n",
        "                    for fn in val_img_file_names\n",
        "                ]\n",
        "            )\n",
        "            / 255\n",
        "        )\n",
        "        self.val_masks = (\n",
        "            np.array(\n",
        "                [\n",
        "                    img_to_array(load_img(fn, color_mode=\"grayscale\"))\n",
        "                    for fn in val_mask_file_names\n",
        "                ]\n",
        "            )\n",
        "            / 255\n",
        "            > 0.5\n",
        "        ).astype(float)\n",
        "\n",
        "    def get_loaders(self):\n",
        "        return (\n",
        "            GetLoader(\n",
        "                imgs=self.train_imgs,\n",
        "                masks=self.train_masks,\n",
        "                timesteps=self.timesteps,\n",
        "                batch_size=self.batch_size,\n",
        "                squeeze=self.squeeze,\n",
        "            ),\n",
        "            GetLoader(\n",
        "                imgs=self.val_imgs,\n",
        "                masks=self.val_masks,\n",
        "                timesteps=self.timesteps,\n",
        "                batch_size=self.batch_size,\n",
        "                squeeze=self.squeeze,\n",
        "            ),\n",
        "        )"
      ]
    },
    {
      "cell_type": "code",
      "execution_count": 26,
      "metadata": {
        "id": "ssywpSGNwEWu"
      },
      "outputs": [],
      "source": [
        "data_folder = \"/gdrive/MyDrive/adjustedROI/final_output\"\n",
        "train,val_loader = DataLoader(data_folder, batch_size=477).get_loaders()"
      ]
    },
    {
      "cell_type": "code",
      "execution_count": 27,
      "metadata": {
        "id": "q1D36sZHwPtc"
      },
      "outputs": [],
      "source": [
        "a, b = val_loader.__next__()\n"
      ]
    },
    {
      "cell_type": "code",
      "execution_count": 28,
      "metadata": {
        "colab": {
          "base_uri": "https://localhost:8080/"
        },
        "id": "aNc1mpTHwR1Z",
        "outputId": "d5cf647a-da36-4bfd-caff-ee3dd18dab77"
      },
      "outputs": [
        {
          "output_type": "execute_result",
          "data": {
            "text/plain": [
              "TensorShape([1, 256, 256, 1])"
            ]
          },
          "metadata": {},
          "execution_count": 28
        }
      ],
      "source": [
        "import random\n",
        "test_img_number = random.randint(0, a.shape[0]-1)\n",
        "test_img = a[test_img_number]\n",
        "ground_truth=b[test_img_number]\n",
        "#test_img_norm=test_img[:,:,0][:,:,None]\n",
        "test_img_input=np.expand_dims(test_img, 0)\n",
        "ground_truth.shape"
      ]
    },
    {
      "cell_type": "code",
      "execution_count": 40,
      "metadata": {
        "colab": {
          "base_uri": "https://localhost:8080/",
          "height": 245
        },
        "id": "KUsdij4nwTSL",
        "outputId": "c389317d-c2c4-4ddc-cdf2-7cf93466908b"
      },
      "outputs": [
        {
          "output_type": "display_data",
          "data": {
            "text/plain": [
              "<Figure size 1152x576 with 3 Axes>"
            ],
            "image/png": "[encoded data removed]"
          },
          "metadata": {
            "needs_background": "light"
          }
        }
      ],
      "source": [
        "import random\n",
        "test_img_number = random.randint(0, a.shape[0]-1)\n",
        "test_img = a[test_img_number]\n",
        "ground_truth=b[test_img_number]\n",
        "#test_img_norm=test_img[:,:,0][:,:,None]\n",
        "test_img_input=np.expand_dims(test_img, 0)\n",
        "\n",
        "prediction = (model.predict(test_img_input)[0,0,:,:,0] > 0.5).astype(np.uint8)\n",
        "plt.figure(figsize=(16, 8))\n",
        "plt.subplot(231)\n",
        "plt.axis('off')\n",
        "plt.title('Testing Image')\n",
        "plt.imshow(test_img[0,:,:,0], cmap='gray')\n",
        "\n",
        "\n",
        "plt.subplot(232)\n",
        "plt.title('Real Mask ')\n",
        "plt.axis('off')\n",
        "plt.imshow(ground_truth[0,:,:,0], cmap='gray')\n",
        "plt.subplot(233)\n",
        "plt.axis('off')\n",
        "plt.title('Predicted mask')\n",
        "plt.imshow(prediction, cmap='gray')\n",
        "\n",
        "plt.show()"
      ]
    },
    {
      "cell_type": "code",
      "execution_count": 30,
      "metadata": {
        "colab": {
          "base_uri": "https://localhost:8080/"
        },
        "id": "GQ6RK255wVBf",
        "outputId": "8eb520f3-cf40-42e2-9b88-21f4c1e66fa5"
      },
      "outputs": [
        {
          "output_type": "stream",
          "name": "stdout",
          "text": [
            "Mean IoU = 0.5351215\n"
          ]
        }
      ],
      "source": [
        "#IoU for a single image\n",
        "from tensorflow.keras.metrics import MeanIoU\n",
        "n_classes = 2\n",
        "IOU_keras = MeanIoU(num_classes=n_classes)  \n",
        "IOU_keras.update_state(ground_truth[0,:,:,0], prediction)\n",
        "print(\"Mean IoU =\", IOU_keras.result().numpy())"
      ]
    },
    {
      "cell_type": "code",
      "execution_count": 31,
      "metadata": {
        "colab": {
          "base_uri": "https://localhost:8080/"
        },
        "id": "KyT3vwzvwXi7",
        "outputId": "8f8360b6-500b-4cdf-918e-0a205acf2b57"
      },
      "outputs": [
        {
          "output_type": "stream",
          "name": "stdout",
          "text": [
            "0.6916385\n",
            "0.63624585\n",
            "0.6970124\n",
            "1.0\n",
            "0.49648285\n",
            "1.0\n",
            "0.48254395\n",
            "0.49990082\n",
            "0.6339887\n",
            "0.49935913\n",
            "0.8928946\n",
            "1.0\n",
            "0.4988098\n",
            "0.6553887\n",
            "0.56434923\n",
            "0.6428022\n",
            "1.0\n",
            "0.49676514\n",
            "0.8448162\n",
            "0.49988556\n",
            "1.0\n",
            "1.0\n",
            "0.4998169\n",
            "0.6741469\n",
            "0.6810519\n",
            "1.0\n",
            "0.58685803\n",
            "0.62225115\n",
            "0.49353027\n",
            "0.58869386\n",
            "0.5531702\n",
            "1.0\n",
            "0.49639893\n",
            "0.62353325\n",
            "0.69284785\n",
            "0.6493224\n",
            "0.5606215\n",
            "0.6670926\n",
            "0.49311066\n",
            "0.60634923\n",
            "0.49919128\n",
            "0.49920654\n",
            "0.65132344\n",
            "0.6613019\n",
            "1.0\n",
            "0.6613019\n",
            "0.49719238\n",
            "0.49925232\n",
            "1.0\n",
            "0.49058533\n",
            "0.51631427\n",
            "1.0\n",
            "0.63520527\n",
            "1.0\n",
            "0.5949327\n",
            "1.0\n",
            "0.6613019\n",
            "0.65666467\n",
            "0.69657004\n",
            "0.49305725\n",
            "0.53408533\n",
            "0.5639717\n",
            "0.48083496\n",
            "1.0\n",
            "0.49342346\n",
            "0.8928946\n",
            "0.66603\n",
            "1.0\n",
            "0.65413326\n",
            "1.0\n",
            "0.7131134\n",
            "0.49988556\n",
            "1.0\n",
            "0.6002025\n",
            "0.4967041\n",
            "1.0\n",
            "0.59490204\n",
            "0.5351215\n",
            "1.0\n",
            "0.6226054\n",
            "0.4977646\n",
            "0.4972\n",
            "0.71325314\n",
            "1.0\n",
            "0.49851227\n",
            "0.5585868\n",
            "0.65413326\n",
            "1.0\n",
            "0.48083496\n",
            "0.6853418\n",
            "0.48970032\n",
            "1.0\n",
            "1.0\n",
            "1.0\n",
            "0.4920578\n",
            "0.8425033\n",
            "0.5281973\n",
            "0.8881536\n",
            "0.52190757\n",
            "0.63054395\n",
            "0.4967575\n",
            "0.8500643\n",
            "0.49738312\n",
            "0.69551754\n",
            "1.0\n",
            "0.6383057\n",
            "0.6174848\n",
            "0.49370575\n",
            "0.57930124\n",
            "0.49881744\n",
            "0.56434923\n",
            "1.0\n",
            "0.49648285\n",
            "0.6756581\n",
            "1.0\n",
            "0.4983368\n",
            "0.49544525\n",
            "0.48804474\n",
            "0.49738312\n",
            "0.49932098\n",
            "0.49956512\n",
            "1.0\n",
            "0.6339887\n",
            "0.8525641\n",
            "0.6850306\n",
            "0.8588393\n",
            "1.0\n",
            "0.8476918\n",
            "1.0\n",
            "0.49947357\n",
            "0.49925232\n",
            "0.6785238\n",
            "0.48880768\n",
            "0.49289703\n",
            "1.0\n",
            "0.49648285\n",
            "0.4976349\n",
            "0.6045753\n",
            "0.49491882\n",
            "0.49510956\n",
            "0.6339887\n",
            "1.0\n",
            "0.63311493\n",
            "0.62225115\n",
            "0.8770696\n",
            "0.49289703\n",
            "0.6465324\n",
            "0.49289703\n",
            "0.6725596\n",
            "0.62534827\n",
            "1.0\n",
            "0.6965084\n",
            "0.61084324\n",
            "0.65657127\n",
            "0.81149197\n",
            "0.5722557\n",
            "0.49874115\n",
            "0.49907684\n",
            "0.6275343\n",
            "0.65657127\n",
            "0.6965084\n",
            "0.4982834\n",
            "0.68211323\n",
            "0.689694\n",
            "1.0\n",
            "0.48880768\n",
            "0.66603\n",
            "0.64977276\n",
            "0.6191699\n",
            "1.0\n",
            "0.7891927\n",
            "0.65600556\n",
            "0.6428022\n",
            "0.4967041\n",
            "0.5591526\n",
            "0.63116753\n",
            "0.49145508\n",
            "0.4967575\n",
            "0.49851227\n",
            "0.4954605\n",
            "0.8312918\n",
            "0.6756581\n",
            "0.4998169\n",
            "1.0\n",
            "0.5809268\n",
            "0.625262\n",
            "0.57890856\n",
            "1.0\n",
            "1.0\n",
            "0.49860382\n",
            "0.5585868\n",
            "0.6045753\n",
            "0.6860765\n",
            "0.76279044\n",
            "0.4954605\n",
            "0.5958661\n",
            "0.6307936\n",
            "0.49311066\n",
            "0.6339887\n",
            "0.49865723\n",
            "0.4998169\n",
            "0.76279044\n",
            "0.49289703\n",
            "0.57530564\n",
            "0.7891927\n",
            "0.8433888\n",
            "0.49943542\n",
            "0.5799001\n",
            "0.49999237\n",
            "0.4982834\n",
            "1.0\n",
            "0.56434923\n",
            "0.8448162\n",
            "1.0\n",
            "0.4976349\n",
            "0.58869386\n",
            "1.0\n",
            "0.6415136\n",
            "0.85064363\n",
            "0.5844132\n",
            "0.59618604\n",
            "1.0\n",
            "0.8640766\n",
            "0.81149197\n",
            "0.8500643\n",
            "0.86039937\n",
            "0.6381312\n",
            "0.49943542\n",
            "0.4987564\n",
            "0.49897766\n",
            "0.8563943\n",
            "0.49925232\n",
            "0.48804474\n",
            "1.0\n",
            "0.74625695\n",
            "0.49932098\n",
            "0.6705129\n",
            "0.7820896\n",
            "0.49998474\n",
            "1.0\n",
            "0.52190757\n",
            "0.49661255\n",
            "0.4824295\n",
            "0.49978638\n",
            "0.49946594\n",
            "0.49894714\n",
            "0.4982071\n",
            "0.53121495\n",
            "1.0\n",
            "0.8360802\n",
            "0.68232465\n",
            "1.0\n",
            "0.6624946\n",
            "0.49661255\n",
            "0.4920578\n",
            "0.58685803\n",
            "0.6810519\n",
            "0.86311746\n",
            "0.57399684\n",
            "0.4907074\n",
            "0.49969482\n",
            "0.622499\n",
            "0.49980164\n",
            "0.49342346\n",
            "0.5722557\n",
            "0.8632772\n",
            "0.49946594\n",
            "0.72977495\n",
            "0.4940796\n",
            "0.54468256\n",
            "0.84761333\n",
            "1.0\n",
            "0.58869386\n",
            "0.51296324\n",
            "0.49952698\n",
            "0.65230185\n",
            "0.68211323\n",
            "0.8476918\n",
            "0.5623136\n",
            "0.49738312\n",
            "1.0\n",
            "0.86382854\n",
            "0.49648285\n",
            "0.84006774\n",
            "1.0\n",
            "0.48254395\n",
            "0.58199394\n",
            "0.49912262\n",
            "0.65132344\n",
            "0.52126294\n",
            "0.49998474\n",
            "0.49891663\n",
            "0.48753357\n",
            "0.58770895\n",
            "0.71089494\n",
            "0.6415136\n",
            "1.0\n",
            "0.6741469\n",
            "0.6307936\n",
            "0.49891663\n",
            "0.6415136\n",
            "0.65413326\n",
            "0.49969482\n",
            "0.61720765\n",
            "0.58254045\n",
            "0.85641694\n",
            "0.6191699\n",
            "0.8476918\n",
            "0.63116753\n",
            "0.86311746\n",
            "0.6947846\n",
            "0.49956512\n",
            "0.5807421\n",
            "0.51296324\n",
            "0.56869787\n",
            "1.0\n",
            "0.531108\n",
            "0.699402\n",
            "0.6228175\n",
            "0.4982834\n",
            "1.0\n",
            "0.49756622\n",
            "0.4994812\n",
            "0.49935913\n",
            "1.0\n",
            "0.8405893\n",
            "1.0\n",
            "1.0\n",
            "0.8881536\n",
            "0.65230185\n",
            "1.0\n",
            "0.61878824\n",
            "0.48880768\n",
            "0.49774933\n",
            "0.581179\n",
            "0.54468256\n",
            "1.0\n",
            "0.49855804\n",
            "0.49947357\n",
            "0.52126294\n",
            "0.61810976\n",
            "0.4967575\n",
            "1.0\n",
            "1.0\n",
            "1.0\n",
            "0.657354\n",
            "0.49969482\n",
            "0.49974823\n",
            "1.0\n",
            "1.0\n",
            "1.0\n",
            "0.7533419\n",
            "0.5773108\n",
            "0.62534827\n",
            "0.6004228\n",
            "0.8632772\n",
            "1.0\n",
            "0.8312918\n",
            "0.6191699\n",
            "1.0\n",
            "0.49639893\n",
            "0.4994812\n",
            "0.49717712\n",
            "0.4981079\n",
            "1.0\n",
            "1.0\n",
            "0.5144302\n",
            "0.8312918\n",
            "0.49946594\n",
            "0.49919128\n",
            "0.8016508\n",
            "1.0\n",
            "0.6191699\n",
            "0.8342674\n",
            "0.82370305\n",
            "0.63311493\n",
            "0.56869787\n",
            "0.622499\n",
            "0.6310123\n",
            "0.49948883\n",
            "0.49395752\n",
            "1.0\n",
            "0.4954605\n",
            "0.53937554\n",
            "0.6428022\n",
            "0.6131053\n",
            "0.48753357\n",
            "0.48804474\n",
            "0.85064363\n",
            "0.4983139\n",
            "1.0\n",
            "1.0\n",
            "0.86382854\n",
            "0.7891927\n",
            "0.49978638\n",
            "0.71115756\n",
            "0.85064363\n",
            "0.83877045\n",
            "0.64648986\n",
            "0.5163982\n",
            "0.621975\n",
            "0.49919128\n",
            "1.0\n",
            "0.65377444\n",
            "0.71089494\n",
            "0.72977495\n",
            "0.583129\n",
            "0.49999237\n",
            "1.0\n",
            "1.0\n",
            "1.0\n",
            "0.6465324\n",
            "1.0\n",
            "0.689694\n",
            "0.49738312\n",
            "0.71089494\n",
            "0.53790456\n",
            "0.63172585\n",
            "0.49988556\n",
            "0.7533419\n",
            "0.6037562\n",
            "0.8398105\n",
            "1.0\n",
            "0.61084324\n",
            "0.53408533\n",
            "1.0\n",
            "0.49932098\n",
            "0.6756581\n",
            "1.0\n",
            "1.0\n",
            "0.577624\n",
            "1.0\n",
            "0.8632772\n",
            "0.6458302\n",
            "0.6174848\n",
            "0.6385935\n",
            "0.6037562\n",
            "0.6275343\n",
            "1.0\n",
            "0.6465324\n",
            "0.63983464\n",
            "0.5807421\n",
            "0.5726903\n",
            "0.6965084\n",
            "0.49925995\n",
            "0.6385935\n",
            "0.6059844\n",
            "0.49948883\n",
            "0.49342346\n",
            "0.5927797\n",
            "1.0\n",
            "0.49932098\n",
            "0.49648285\n",
            "1.0\n",
            "1.0\n",
            "0.6353001\n",
            "0.57399684\n",
            "0.69551754\n",
            "0.74625695\n",
            "0.598672\n",
            "0.622499\n",
            "0.6330918\n",
            "0.84761333\n",
            "1.0\n",
            "0.85641694\n",
            "0.49982452\n",
            "0.49639893\n",
            "0.8525641\n",
            "0.65676856\n",
            "0.52126294\n",
            "1.0\n",
            "0.63172585\n",
            "0.8500643\n",
            "1.0\n",
            "0.6356492\n",
            "1.0\n",
            "0.6307936\n",
            "Mean IoU is:  [0.6099786]\n"
          ]
        }
      ],
      "source": [
        "import pandas as pd\n",
        "\n",
        "IoU_values = []\n",
        "for img in range(0, a.shape[0]):\n",
        "    temp_img = a[img]\n",
        "    ground_truth=b[img]\n",
        "    temp_img_input=np.expand_dims(temp_img, 0)\n",
        "    prediction = (model.predict(temp_img_input)[0,0,:,:,0]> 0.5).astype(np.uint8)\n",
        "    \n",
        "    IoU = MeanIoU(num_classes=n_classes)\n",
        "    IoU.update_state(ground_truth[0,:,:,0], prediction)\n",
        "    IoU = IoU.result().numpy()\n",
        "    IoU_values.append(IoU)\n",
        "\n",
        "    print(IoU)\n",
        "    \n",
        "\n",
        "\n",
        "df = pd.DataFrame(IoU_values, columns=[\"IoU\"])\n",
        "df = df[df.IoU != 1.0]    \n",
        "mean_IoU = df.mean().values\n",
        "print(\"Mean IoU is: \", mean_IoU)"
      ]
    },
    {
      "cell_type": "code",
      "execution_count": null,
      "metadata": {
        "id": "yl9v1RsRwZOl"
      },
      "outputs": [],
      "source": []
    }
  ],
  "metadata": {
    "accelerator": "GPU",
    "colab": {
      "provenance": [],
      "include_colab_link": true
    },
    "kernelspec": {
      "display_name": "Python 3",
      "name": "python3"
    },
    "language_info": {
      "name": "python"
    }
  },
  "nbformat": 4,
  "nbformat_minor": 0
}